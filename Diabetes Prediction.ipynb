{
 "cells": [
  {
   "cell_type": "code",
   "execution_count": 1,
   "id": "cebf30de",
   "metadata": {},
   "outputs": [],
   "source": [
    "import numpy as np\n",
    "import pandas as pd\n",
    "import matplotlib.pyplot as plt\n",
    "import seaborn as sns"
   ]
  },
  {
   "cell_type": "code",
   "execution_count": 2,
   "id": "17958cdc",
   "metadata": {},
   "outputs": [
    {
     "data": {
      "text/html": [
       "<div>\n",
       "<style scoped>\n",
       "    .dataframe tbody tr th:only-of-type {\n",
       "        vertical-align: middle;\n",
       "    }\n",
       "\n",
       "    .dataframe tbody tr th {\n",
       "        vertical-align: top;\n",
       "    }\n",
       "\n",
       "    .dataframe thead th {\n",
       "        text-align: right;\n",
       "    }\n",
       "</style>\n",
       "<table border=\"1\" class=\"dataframe\">\n",
       "  <thead>\n",
       "    <tr style=\"text-align: right;\">\n",
       "      <th></th>\n",
       "      <th>Pregnancies</th>\n",
       "      <th>Glucose</th>\n",
       "      <th>BloodPressure</th>\n",
       "      <th>SkinThickness</th>\n",
       "      <th>Insulin</th>\n",
       "      <th>BMI</th>\n",
       "      <th>DiabetesPedigreeFunction</th>\n",
       "      <th>Age</th>\n",
       "      <th>Outcome</th>\n",
       "    </tr>\n",
       "  </thead>\n",
       "  <tbody>\n",
       "    <tr>\n",
       "      <th>0</th>\n",
       "      <td>6</td>\n",
       "      <td>148</td>\n",
       "      <td>72</td>\n",
       "      <td>35</td>\n",
       "      <td>0</td>\n",
       "      <td>33.6</td>\n",
       "      <td>0.627</td>\n",
       "      <td>50</td>\n",
       "      <td>1</td>\n",
       "    </tr>\n",
       "    <tr>\n",
       "      <th>1</th>\n",
       "      <td>1</td>\n",
       "      <td>85</td>\n",
       "      <td>66</td>\n",
       "      <td>29</td>\n",
       "      <td>0</td>\n",
       "      <td>26.6</td>\n",
       "      <td>0.351</td>\n",
       "      <td>31</td>\n",
       "      <td>0</td>\n",
       "    </tr>\n",
       "    <tr>\n",
       "      <th>2</th>\n",
       "      <td>8</td>\n",
       "      <td>183</td>\n",
       "      <td>64</td>\n",
       "      <td>0</td>\n",
       "      <td>0</td>\n",
       "      <td>23.3</td>\n",
       "      <td>0.672</td>\n",
       "      <td>32</td>\n",
       "      <td>1</td>\n",
       "    </tr>\n",
       "    <tr>\n",
       "      <th>3</th>\n",
       "      <td>1</td>\n",
       "      <td>89</td>\n",
       "      <td>66</td>\n",
       "      <td>23</td>\n",
       "      <td>94</td>\n",
       "      <td>28.1</td>\n",
       "      <td>0.167</td>\n",
       "      <td>21</td>\n",
       "      <td>0</td>\n",
       "    </tr>\n",
       "    <tr>\n",
       "      <th>4</th>\n",
       "      <td>0</td>\n",
       "      <td>137</td>\n",
       "      <td>40</td>\n",
       "      <td>35</td>\n",
       "      <td>168</td>\n",
       "      <td>43.1</td>\n",
       "      <td>2.288</td>\n",
       "      <td>33</td>\n",
       "      <td>1</td>\n",
       "    </tr>\n",
       "  </tbody>\n",
       "</table>\n",
       "</div>"
      ],
      "text/plain": [
       "   Pregnancies  Glucose  BloodPressure  SkinThickness  Insulin   BMI  \\\n",
       "0            6      148             72             35        0  33.6   \n",
       "1            1       85             66             29        0  26.6   \n",
       "2            8      183             64              0        0  23.3   \n",
       "3            1       89             66             23       94  28.1   \n",
       "4            0      137             40             35      168  43.1   \n",
       "\n",
       "   DiabetesPedigreeFunction  Age  Outcome  \n",
       "0                     0.627   50        1  \n",
       "1                     0.351   31        0  \n",
       "2                     0.672   32        1  \n",
       "3                     0.167   21        0  \n",
       "4                     2.288   33        1  "
      ]
     },
     "execution_count": 2,
     "metadata": {},
     "output_type": "execute_result"
    }
   ],
   "source": [
    "diabetes_data = pd.read_csv('diabetes.csv')\n",
    "diabetes_data.head()"
   ]
  },
  {
   "cell_type": "code",
   "execution_count": 3,
   "id": "f1659e84",
   "metadata": {},
   "outputs": [
    {
     "data": {
      "text/html": [
       "<div>\n",
       "<style scoped>\n",
       "    .dataframe tbody tr th:only-of-type {\n",
       "        vertical-align: middle;\n",
       "    }\n",
       "\n",
       "    .dataframe tbody tr th {\n",
       "        vertical-align: top;\n",
       "    }\n",
       "\n",
       "    .dataframe thead th {\n",
       "        text-align: right;\n",
       "    }\n",
       "</style>\n",
       "<table border=\"1\" class=\"dataframe\">\n",
       "  <thead>\n",
       "    <tr style=\"text-align: right;\">\n",
       "      <th></th>\n",
       "      <th>Pregnancies</th>\n",
       "      <th>Glucose</th>\n",
       "      <th>BloodPressure</th>\n",
       "      <th>SkinThickness</th>\n",
       "      <th>Insulin</th>\n",
       "      <th>BMI</th>\n",
       "      <th>DiabetesPedigreeFunction</th>\n",
       "      <th>Age</th>\n",
       "      <th>Outcome</th>\n",
       "    </tr>\n",
       "  </thead>\n",
       "  <tbody>\n",
       "    <tr>\n",
       "      <th>count</th>\n",
       "      <td>768.000000</td>\n",
       "      <td>768.000000</td>\n",
       "      <td>768.000000</td>\n",
       "      <td>768.000000</td>\n",
       "      <td>768.000000</td>\n",
       "      <td>768.000000</td>\n",
       "      <td>768.000000</td>\n",
       "      <td>768.000000</td>\n",
       "      <td>768.000000</td>\n",
       "    </tr>\n",
       "    <tr>\n",
       "      <th>mean</th>\n",
       "      <td>3.845052</td>\n",
       "      <td>120.894531</td>\n",
       "      <td>69.105469</td>\n",
       "      <td>20.536458</td>\n",
       "      <td>79.799479</td>\n",
       "      <td>31.992578</td>\n",
       "      <td>0.471876</td>\n",
       "      <td>33.240885</td>\n",
       "      <td>0.348958</td>\n",
       "    </tr>\n",
       "    <tr>\n",
       "      <th>std</th>\n",
       "      <td>3.369578</td>\n",
       "      <td>31.972618</td>\n",
       "      <td>19.355807</td>\n",
       "      <td>15.952218</td>\n",
       "      <td>115.244002</td>\n",
       "      <td>7.884160</td>\n",
       "      <td>0.331329</td>\n",
       "      <td>11.760232</td>\n",
       "      <td>0.476951</td>\n",
       "    </tr>\n",
       "    <tr>\n",
       "      <th>min</th>\n",
       "      <td>0.000000</td>\n",
       "      <td>0.000000</td>\n",
       "      <td>0.000000</td>\n",
       "      <td>0.000000</td>\n",
       "      <td>0.000000</td>\n",
       "      <td>0.000000</td>\n",
       "      <td>0.078000</td>\n",
       "      <td>21.000000</td>\n",
       "      <td>0.000000</td>\n",
       "    </tr>\n",
       "    <tr>\n",
       "      <th>25%</th>\n",
       "      <td>1.000000</td>\n",
       "      <td>99.000000</td>\n",
       "      <td>62.000000</td>\n",
       "      <td>0.000000</td>\n",
       "      <td>0.000000</td>\n",
       "      <td>27.300000</td>\n",
       "      <td>0.243750</td>\n",
       "      <td>24.000000</td>\n",
       "      <td>0.000000</td>\n",
       "    </tr>\n",
       "    <tr>\n",
       "      <th>50%</th>\n",
       "      <td>3.000000</td>\n",
       "      <td>117.000000</td>\n",
       "      <td>72.000000</td>\n",
       "      <td>23.000000</td>\n",
       "      <td>30.500000</td>\n",
       "      <td>32.000000</td>\n",
       "      <td>0.372500</td>\n",
       "      <td>29.000000</td>\n",
       "      <td>0.000000</td>\n",
       "    </tr>\n",
       "    <tr>\n",
       "      <th>75%</th>\n",
       "      <td>6.000000</td>\n",
       "      <td>140.250000</td>\n",
       "      <td>80.000000</td>\n",
       "      <td>32.000000</td>\n",
       "      <td>127.250000</td>\n",
       "      <td>36.600000</td>\n",
       "      <td>0.626250</td>\n",
       "      <td>41.000000</td>\n",
       "      <td>1.000000</td>\n",
       "    </tr>\n",
       "    <tr>\n",
       "      <th>max</th>\n",
       "      <td>17.000000</td>\n",
       "      <td>199.000000</td>\n",
       "      <td>122.000000</td>\n",
       "      <td>99.000000</td>\n",
       "      <td>846.000000</td>\n",
       "      <td>67.100000</td>\n",
       "      <td>2.420000</td>\n",
       "      <td>81.000000</td>\n",
       "      <td>1.000000</td>\n",
       "    </tr>\n",
       "  </tbody>\n",
       "</table>\n",
       "</div>"
      ],
      "text/plain": [
       "       Pregnancies     Glucose  BloodPressure  SkinThickness     Insulin  \\\n",
       "count   768.000000  768.000000     768.000000     768.000000  768.000000   \n",
       "mean      3.845052  120.894531      69.105469      20.536458   79.799479   \n",
       "std       3.369578   31.972618      19.355807      15.952218  115.244002   \n",
       "min       0.000000    0.000000       0.000000       0.000000    0.000000   \n",
       "25%       1.000000   99.000000      62.000000       0.000000    0.000000   \n",
       "50%       3.000000  117.000000      72.000000      23.000000   30.500000   \n",
       "75%       6.000000  140.250000      80.000000      32.000000  127.250000   \n",
       "max      17.000000  199.000000     122.000000      99.000000  846.000000   \n",
       "\n",
       "              BMI  DiabetesPedigreeFunction         Age     Outcome  \n",
       "count  768.000000                768.000000  768.000000  768.000000  \n",
       "mean    31.992578                  0.471876   33.240885    0.348958  \n",
       "std      7.884160                  0.331329   11.760232    0.476951  \n",
       "min      0.000000                  0.078000   21.000000    0.000000  \n",
       "25%     27.300000                  0.243750   24.000000    0.000000  \n",
       "50%     32.000000                  0.372500   29.000000    0.000000  \n",
       "75%     36.600000                  0.626250   41.000000    1.000000  \n",
       "max     67.100000                  2.420000   81.000000    1.000000  "
      ]
     },
     "execution_count": 3,
     "metadata": {},
     "output_type": "execute_result"
    }
   ],
   "source": [
    "diabetes_data.describe()"
   ]
  },
  {
   "cell_type": "code",
   "execution_count": 4,
   "id": "02b664e3",
   "metadata": {},
   "outputs": [
    {
     "data": {
      "text/html": [
       "<div>\n",
       "<style scoped>\n",
       "    .dataframe tbody tr th:only-of-type {\n",
       "        vertical-align: middle;\n",
       "    }\n",
       "\n",
       "    .dataframe tbody tr th {\n",
       "        vertical-align: top;\n",
       "    }\n",
       "\n",
       "    .dataframe thead th {\n",
       "        text-align: right;\n",
       "    }\n",
       "</style>\n",
       "<table border=\"1\" class=\"dataframe\">\n",
       "  <thead>\n",
       "    <tr style=\"text-align: right;\">\n",
       "      <th></th>\n",
       "      <th>count</th>\n",
       "      <th>mean</th>\n",
       "      <th>std</th>\n",
       "      <th>min</th>\n",
       "      <th>25%</th>\n",
       "      <th>50%</th>\n",
       "      <th>75%</th>\n",
       "      <th>max</th>\n",
       "    </tr>\n",
       "  </thead>\n",
       "  <tbody>\n",
       "    <tr>\n",
       "      <th>Pregnancies</th>\n",
       "      <td>768.0</td>\n",
       "      <td>3.845052</td>\n",
       "      <td>3.369578</td>\n",
       "      <td>0.000</td>\n",
       "      <td>1.00000</td>\n",
       "      <td>3.0000</td>\n",
       "      <td>6.00000</td>\n",
       "      <td>17.00</td>\n",
       "    </tr>\n",
       "    <tr>\n",
       "      <th>Glucose</th>\n",
       "      <td>768.0</td>\n",
       "      <td>120.894531</td>\n",
       "      <td>31.972618</td>\n",
       "      <td>0.000</td>\n",
       "      <td>99.00000</td>\n",
       "      <td>117.0000</td>\n",
       "      <td>140.25000</td>\n",
       "      <td>199.00</td>\n",
       "    </tr>\n",
       "    <tr>\n",
       "      <th>BloodPressure</th>\n",
       "      <td>768.0</td>\n",
       "      <td>69.105469</td>\n",
       "      <td>19.355807</td>\n",
       "      <td>0.000</td>\n",
       "      <td>62.00000</td>\n",
       "      <td>72.0000</td>\n",
       "      <td>80.00000</td>\n",
       "      <td>122.00</td>\n",
       "    </tr>\n",
       "    <tr>\n",
       "      <th>SkinThickness</th>\n",
       "      <td>768.0</td>\n",
       "      <td>20.536458</td>\n",
       "      <td>15.952218</td>\n",
       "      <td>0.000</td>\n",
       "      <td>0.00000</td>\n",
       "      <td>23.0000</td>\n",
       "      <td>32.00000</td>\n",
       "      <td>99.00</td>\n",
       "    </tr>\n",
       "    <tr>\n",
       "      <th>Insulin</th>\n",
       "      <td>768.0</td>\n",
       "      <td>79.799479</td>\n",
       "      <td>115.244002</td>\n",
       "      <td>0.000</td>\n",
       "      <td>0.00000</td>\n",
       "      <td>30.5000</td>\n",
       "      <td>127.25000</td>\n",
       "      <td>846.00</td>\n",
       "    </tr>\n",
       "    <tr>\n",
       "      <th>BMI</th>\n",
       "      <td>768.0</td>\n",
       "      <td>31.992578</td>\n",
       "      <td>7.884160</td>\n",
       "      <td>0.000</td>\n",
       "      <td>27.30000</td>\n",
       "      <td>32.0000</td>\n",
       "      <td>36.60000</td>\n",
       "      <td>67.10</td>\n",
       "    </tr>\n",
       "    <tr>\n",
       "      <th>DiabetesPedigreeFunction</th>\n",
       "      <td>768.0</td>\n",
       "      <td>0.471876</td>\n",
       "      <td>0.331329</td>\n",
       "      <td>0.078</td>\n",
       "      <td>0.24375</td>\n",
       "      <td>0.3725</td>\n",
       "      <td>0.62625</td>\n",
       "      <td>2.42</td>\n",
       "    </tr>\n",
       "    <tr>\n",
       "      <th>Age</th>\n",
       "      <td>768.0</td>\n",
       "      <td>33.240885</td>\n",
       "      <td>11.760232</td>\n",
       "      <td>21.000</td>\n",
       "      <td>24.00000</td>\n",
       "      <td>29.0000</td>\n",
       "      <td>41.00000</td>\n",
       "      <td>81.00</td>\n",
       "    </tr>\n",
       "    <tr>\n",
       "      <th>Outcome</th>\n",
       "      <td>768.0</td>\n",
       "      <td>0.348958</td>\n",
       "      <td>0.476951</td>\n",
       "      <td>0.000</td>\n",
       "      <td>0.00000</td>\n",
       "      <td>0.0000</td>\n",
       "      <td>1.00000</td>\n",
       "      <td>1.00</td>\n",
       "    </tr>\n",
       "  </tbody>\n",
       "</table>\n",
       "</div>"
      ],
      "text/plain": [
       "                          count        mean         std     min       25%  \\\n",
       "Pregnancies               768.0    3.845052    3.369578   0.000   1.00000   \n",
       "Glucose                   768.0  120.894531   31.972618   0.000  99.00000   \n",
       "BloodPressure             768.0   69.105469   19.355807   0.000  62.00000   \n",
       "SkinThickness             768.0   20.536458   15.952218   0.000   0.00000   \n",
       "Insulin                   768.0   79.799479  115.244002   0.000   0.00000   \n",
       "BMI                       768.0   31.992578    7.884160   0.000  27.30000   \n",
       "DiabetesPedigreeFunction  768.0    0.471876    0.331329   0.078   0.24375   \n",
       "Age                       768.0   33.240885   11.760232  21.000  24.00000   \n",
       "Outcome                   768.0    0.348958    0.476951   0.000   0.00000   \n",
       "\n",
       "                               50%        75%     max  \n",
       "Pregnancies                 3.0000    6.00000   17.00  \n",
       "Glucose                   117.0000  140.25000  199.00  \n",
       "BloodPressure              72.0000   80.00000  122.00  \n",
       "SkinThickness              23.0000   32.00000   99.00  \n",
       "Insulin                    30.5000  127.25000  846.00  \n",
       "BMI                        32.0000   36.60000   67.10  \n",
       "DiabetesPedigreeFunction    0.3725    0.62625    2.42  \n",
       "Age                        29.0000   41.00000   81.00  \n",
       "Outcome                     0.0000    1.00000    1.00  "
      ]
     },
     "execution_count": 4,
     "metadata": {},
     "output_type": "execute_result"
    }
   ],
   "source": [
    "diabetes_data.describe().T"
   ]
  },
  {
   "cell_type": "code",
   "execution_count": 7,
   "id": "ca6f1310",
   "metadata": {},
   "outputs": [
    {
     "name": "stdout",
     "output_type": "stream",
     "text": [
      "Pregnancies                 0\n",
      "Glucose                     0\n",
      "BloodPressure               0\n",
      "SkinThickness               0\n",
      "Insulin                     0\n",
      "BMI                         0\n",
      "DiabetesPedigreeFunction    0\n",
      "Age                         0\n",
      "Outcome                     0\n",
      "dtype: int64\n"
     ]
    }
   ],
   "source": [
    "print(diabetes_data.isnull().sum())"
   ]
  },
  {
   "cell_type": "code",
   "execution_count": 8,
   "id": "8b412737",
   "metadata": {},
   "outputs": [
    {
     "name": "stdout",
     "output_type": "stream",
     "text": [
      "<class 'pandas.core.frame.DataFrame'>\n",
      "RangeIndex: 768 entries, 0 to 767\n",
      "Data columns (total 9 columns):\n",
      " #   Column                    Non-Null Count  Dtype  \n",
      "---  ------                    --------------  -----  \n",
      " 0   Pregnancies               768 non-null    int64  \n",
      " 1   Glucose                   768 non-null    int64  \n",
      " 2   BloodPressure             768 non-null    int64  \n",
      " 3   SkinThickness             768 non-null    int64  \n",
      " 4   Insulin                   768 non-null    int64  \n",
      " 5   BMI                       768 non-null    float64\n",
      " 6   DiabetesPedigreeFunction  768 non-null    float64\n",
      " 7   Age                       768 non-null    int64  \n",
      " 8   Outcome                   768 non-null    int64  \n",
      "dtypes: float64(2), int64(7)\n",
      "memory usage: 54.1 KB\n"
     ]
    }
   ],
   "source": [
    "diabetes_data.info()"
   ]
  },
  {
   "cell_type": "code",
   "execution_count": 9,
   "id": "cfc8bfa3",
   "metadata": {},
   "outputs": [
    {
     "data": {
      "text/plain": [
       "Pregnancies                 0\n",
       "Glucose                     0\n",
       "BloodPressure               0\n",
       "SkinThickness               0\n",
       "Insulin                     0\n",
       "BMI                         0\n",
       "DiabetesPedigreeFunction    0\n",
       "Age                         0\n",
       "Outcome                     0\n",
       "dtype: int64"
      ]
     },
     "execution_count": 9,
     "metadata": {},
     "output_type": "execute_result"
    }
   ],
   "source": [
    "diabetes_data.isna().sum()"
   ]
  },
  {
   "cell_type": "code",
   "execution_count": 10,
   "id": "ac9b3873",
   "metadata": {},
   "outputs": [],
   "source": [
    "diabetes_data[['Glucose','BloodPressure','SkinThickness','Insulin','BMI']] = diabetes_data[['Glucose','BloodPressure','SkinThickness','Insulin','BMI']].replace(0,np.NaN)"
   ]
  },
  {
   "cell_type": "code",
   "execution_count": 11,
   "id": "b10ff6e4",
   "metadata": {},
   "outputs": [
    {
     "data": {
      "text/plain": [
       "Pregnancies                   0\n",
       "Glucose                       5\n",
       "BloodPressure                35\n",
       "SkinThickness               227\n",
       "Insulin                     374\n",
       "BMI                          11\n",
       "DiabetesPedigreeFunction      0\n",
       "Age                           0\n",
       "Outcome                       0\n",
       "dtype: int64"
      ]
     },
     "execution_count": 11,
     "metadata": {},
     "output_type": "execute_result"
    }
   ],
   "source": [
    "diabetes_data.isna().sum()"
   ]
  },
  {
   "cell_type": "code",
   "execution_count": 13,
   "id": "e7e7c40f",
   "metadata": {},
   "outputs": [],
   "source": [
    "diabetes_data['Glucose'].fillna(diabetes_data['Glucose'].mean(), inplace = True)\n",
    "diabetes_data['BloodPressure'].fillna(diabetes_data['BloodPressure'].mean(), inplace = True)\n",
    "diabetes_data['SkinThickness'].fillna(diabetes_data['SkinThickness'].median(), inplace = True)\n",
    "diabetes_data['Insulin'].fillna(diabetes_data['Insulin'].median(), inplace = True)\n",
    "diabetes_data['BMI'].fillna(diabetes_data['BMI'].median(), inplace = True)"
   ]
  },
  {
   "cell_type": "code",
   "execution_count": 14,
   "id": "6e3c3e2d",
   "metadata": {},
   "outputs": [
    {
     "data": {
      "text/plain": [
       "Pregnancies                 0\n",
       "Glucose                     0\n",
       "BloodPressure               0\n",
       "SkinThickness               0\n",
       "Insulin                     0\n",
       "BMI                         0\n",
       "DiabetesPedigreeFunction    0\n",
       "Age                         0\n",
       "Outcome                     0\n",
       "dtype: int64"
      ]
     },
     "execution_count": 14,
     "metadata": {},
     "output_type": "execute_result"
    }
   ],
   "source": [
    "diabetes_data.isna().sum()"
   ]
  },
  {
   "cell_type": "code",
   "execution_count": 16,
   "id": "b64f5128",
   "metadata": {},
   "outputs": [
    {
     "data": {
      "image/png": "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\n",
      "text/plain": [
       "<Figure size 2000x2000 with 9 Axes>"
      ]
     },
     "metadata": {},
     "output_type": "display_data"
    }
   ],
   "source": [
    "p = diabetes_data.hist(figsize = (20,20))"
   ]
  },
  {
   "cell_type": "code",
   "execution_count": null,
   "id": "250dda3b",
   "metadata": {},
   "outputs": [],
   "source": []
  },
  {
   "cell_type": "code",
   "execution_count": 18,
   "id": "b23dd23e",
   "metadata": {},
   "outputs": [],
   "source": [
    "X = diabetes_data.drop(\"Outcome\",axis = 1)"
   ]
  },
  {
   "cell_type": "code",
   "execution_count": 19,
   "id": "1669e406",
   "metadata": {},
   "outputs": [],
   "source": [
    "y = diabetes_data['Outcome']"
   ]
  },
  {
   "cell_type": "code",
   "execution_count": 20,
   "id": "a2c0c94d",
   "metadata": {},
   "outputs": [
    {
     "data": {
      "text/html": [
       "<div>\n",
       "<style scoped>\n",
       "    .dataframe tbody tr th:only-of-type {\n",
       "        vertical-align: middle;\n",
       "    }\n",
       "\n",
       "    .dataframe tbody tr th {\n",
       "        vertical-align: top;\n",
       "    }\n",
       "\n",
       "    .dataframe thead th {\n",
       "        text-align: right;\n",
       "    }\n",
       "</style>\n",
       "<table border=\"1\" class=\"dataframe\">\n",
       "  <thead>\n",
       "    <tr style=\"text-align: right;\">\n",
       "      <th></th>\n",
       "      <th>Pregnancies</th>\n",
       "      <th>Glucose</th>\n",
       "      <th>BloodPressure</th>\n",
       "      <th>SkinThickness</th>\n",
       "      <th>Insulin</th>\n",
       "      <th>BMI</th>\n",
       "      <th>DiabetesPedigreeFunction</th>\n",
       "      <th>Age</th>\n",
       "    </tr>\n",
       "  </thead>\n",
       "  <tbody>\n",
       "    <tr>\n",
       "      <th>0</th>\n",
       "      <td>6</td>\n",
       "      <td>148.0</td>\n",
       "      <td>72.0</td>\n",
       "      <td>35.0</td>\n",
       "      <td>125.0</td>\n",
       "      <td>33.6</td>\n",
       "      <td>0.627</td>\n",
       "      <td>50</td>\n",
       "    </tr>\n",
       "    <tr>\n",
       "      <th>1</th>\n",
       "      <td>1</td>\n",
       "      <td>85.0</td>\n",
       "      <td>66.0</td>\n",
       "      <td>29.0</td>\n",
       "      <td>125.0</td>\n",
       "      <td>26.6</td>\n",
       "      <td>0.351</td>\n",
       "      <td>31</td>\n",
       "    </tr>\n",
       "    <tr>\n",
       "      <th>2</th>\n",
       "      <td>8</td>\n",
       "      <td>183.0</td>\n",
       "      <td>64.0</td>\n",
       "      <td>29.0</td>\n",
       "      <td>125.0</td>\n",
       "      <td>23.3</td>\n",
       "      <td>0.672</td>\n",
       "      <td>32</td>\n",
       "    </tr>\n",
       "    <tr>\n",
       "      <th>3</th>\n",
       "      <td>1</td>\n",
       "      <td>89.0</td>\n",
       "      <td>66.0</td>\n",
       "      <td>23.0</td>\n",
       "      <td>94.0</td>\n",
       "      <td>28.1</td>\n",
       "      <td>0.167</td>\n",
       "      <td>21</td>\n",
       "    </tr>\n",
       "    <tr>\n",
       "      <th>4</th>\n",
       "      <td>0</td>\n",
       "      <td>137.0</td>\n",
       "      <td>40.0</td>\n",
       "      <td>35.0</td>\n",
       "      <td>168.0</td>\n",
       "      <td>43.1</td>\n",
       "      <td>2.288</td>\n",
       "      <td>33</td>\n",
       "    </tr>\n",
       "  </tbody>\n",
       "</table>\n",
       "</div>"
      ],
      "text/plain": [
       "   Pregnancies  Glucose  BloodPressure  SkinThickness  Insulin   BMI  \\\n",
       "0            6    148.0           72.0           35.0    125.0  33.6   \n",
       "1            1     85.0           66.0           29.0    125.0  26.6   \n",
       "2            8    183.0           64.0           29.0    125.0  23.3   \n",
       "3            1     89.0           66.0           23.0     94.0  28.1   \n",
       "4            0    137.0           40.0           35.0    168.0  43.1   \n",
       "\n",
       "   DiabetesPedigreeFunction  Age  \n",
       "0                     0.627   50  \n",
       "1                     0.351   31  \n",
       "2                     0.672   32  \n",
       "3                     0.167   21  \n",
       "4                     2.288   33  "
      ]
     },
     "execution_count": 20,
     "metadata": {},
     "output_type": "execute_result"
    }
   ],
   "source": [
    "X.head()"
   ]
  },
  {
   "cell_type": "code",
   "execution_count": 21,
   "id": "b59d605a",
   "metadata": {},
   "outputs": [
    {
     "data": {
      "text/plain": [
       "0    1\n",
       "1    0\n",
       "2    1\n",
       "3    0\n",
       "4    1\n",
       "Name: Outcome, dtype: int64"
      ]
     },
     "execution_count": 21,
     "metadata": {},
     "output_type": "execute_result"
    }
   ],
   "source": [
    "y.head()"
   ]
  },
  {
   "cell_type": "code",
   "execution_count": 22,
   "id": "b1dbc7c8",
   "metadata": {},
   "outputs": [],
   "source": [
    "from sklearn.preprocessing import StandardScaler\n",
    "SS = StandardScaler()"
   ]
  },
  {
   "cell_type": "code",
   "execution_count": 25,
   "id": "f184d803",
   "metadata": {},
   "outputs": [],
   "source": [
    "X = pd.DataFrame(SS.fit_transform(X),\n",
    "        columns=['Pregnancies', 'Glucose', 'BloodPressure', 'SkinThickness', 'Insulin',\n",
    "       'BMI', 'DiabetesPedigreeFunction', 'Age'])"
   ]
  },
  {
   "cell_type": "code",
   "execution_count": 26,
   "id": "513b3f2d",
   "metadata": {},
   "outputs": [
    {
     "data": {
      "text/html": [
       "<div>\n",
       "<style scoped>\n",
       "    .dataframe tbody tr th:only-of-type {\n",
       "        vertical-align: middle;\n",
       "    }\n",
       "\n",
       "    .dataframe tbody tr th {\n",
       "        vertical-align: top;\n",
       "    }\n",
       "\n",
       "    .dataframe thead th {\n",
       "        text-align: right;\n",
       "    }\n",
       "</style>\n",
       "<table border=\"1\" class=\"dataframe\">\n",
       "  <thead>\n",
       "    <tr style=\"text-align: right;\">\n",
       "      <th></th>\n",
       "      <th>Pregnancies</th>\n",
       "      <th>Glucose</th>\n",
       "      <th>BloodPressure</th>\n",
       "      <th>SkinThickness</th>\n",
       "      <th>Insulin</th>\n",
       "      <th>BMI</th>\n",
       "      <th>DiabetesPedigreeFunction</th>\n",
       "      <th>Age</th>\n",
       "    </tr>\n",
       "  </thead>\n",
       "  <tbody>\n",
       "    <tr>\n",
       "      <th>0</th>\n",
       "      <td>0.639947</td>\n",
       "      <td>0.865108</td>\n",
       "      <td>-0.033518</td>\n",
       "      <td>0.670643</td>\n",
       "      <td>-0.181541</td>\n",
       "      <td>0.166619</td>\n",
       "      <td>0.468492</td>\n",
       "      <td>1.425995</td>\n",
       "    </tr>\n",
       "    <tr>\n",
       "      <th>1</th>\n",
       "      <td>-0.844885</td>\n",
       "      <td>-1.206162</td>\n",
       "      <td>-0.529859</td>\n",
       "      <td>-0.012301</td>\n",
       "      <td>-0.181541</td>\n",
       "      <td>-0.852200</td>\n",
       "      <td>-0.365061</td>\n",
       "      <td>-0.190672</td>\n",
       "    </tr>\n",
       "    <tr>\n",
       "      <th>2</th>\n",
       "      <td>1.233880</td>\n",
       "      <td>2.015813</td>\n",
       "      <td>-0.695306</td>\n",
       "      <td>-0.012301</td>\n",
       "      <td>-0.181541</td>\n",
       "      <td>-1.332500</td>\n",
       "      <td>0.604397</td>\n",
       "      <td>-0.105584</td>\n",
       "    </tr>\n",
       "    <tr>\n",
       "      <th>3</th>\n",
       "      <td>-0.844885</td>\n",
       "      <td>-1.074652</td>\n",
       "      <td>-0.529859</td>\n",
       "      <td>-0.695245</td>\n",
       "      <td>-0.540642</td>\n",
       "      <td>-0.633881</td>\n",
       "      <td>-0.920763</td>\n",
       "      <td>-1.041549</td>\n",
       "    </tr>\n",
       "    <tr>\n",
       "      <th>4</th>\n",
       "      <td>-1.141852</td>\n",
       "      <td>0.503458</td>\n",
       "      <td>-2.680669</td>\n",
       "      <td>0.670643</td>\n",
       "      <td>0.316566</td>\n",
       "      <td>1.549303</td>\n",
       "      <td>5.484909</td>\n",
       "      <td>-0.020496</td>\n",
       "    </tr>\n",
       "  </tbody>\n",
       "</table>\n",
       "</div>"
      ],
      "text/plain": [
       "   Pregnancies   Glucose  BloodPressure  SkinThickness   Insulin       BMI  \\\n",
       "0     0.639947  0.865108      -0.033518       0.670643 -0.181541  0.166619   \n",
       "1    -0.844885 -1.206162      -0.529859      -0.012301 -0.181541 -0.852200   \n",
       "2     1.233880  2.015813      -0.695306      -0.012301 -0.181541 -1.332500   \n",
       "3    -0.844885 -1.074652      -0.529859      -0.695245 -0.540642 -0.633881   \n",
       "4    -1.141852  0.503458      -2.680669       0.670643  0.316566  1.549303   \n",
       "\n",
       "   DiabetesPedigreeFunction       Age  \n",
       "0                  0.468492  1.425995  \n",
       "1                 -0.365061 -0.190672  \n",
       "2                  0.604397 -0.105584  \n",
       "3                 -0.920763 -1.041549  \n",
       "4                  5.484909 -0.020496  "
      ]
     },
     "execution_count": 26,
     "metadata": {},
     "output_type": "execute_result"
    }
   ],
   "source": [
    "X.head()"
   ]
  },
  {
   "cell_type": "code",
   "execution_count": 46,
   "id": "87aee739",
   "metadata": {},
   "outputs": [],
   "source": [
    "from sklearn.model_selection import train_test_split\n",
    "X_train,X_test,y_train,y_test = train_test_split(X,y,test_size=0.2,random_state=42)"
   ]
  },
  {
   "cell_type": "code",
   "execution_count": 59,
   "id": "2bf9ff91",
   "metadata": {},
   "outputs": [
    {
     "name": "stderr",
     "output_type": "stream",
     "text": [
      "C:\\Users\\User\\anaconda3\\lib\\site-packages\\sklearn\\neighbors\\_classification.py:228: FutureWarning: Unlike other reduction functions (e.g. `skew`, `kurtosis`), the default behavior of `mode` typically preserves the axis it acts along. In SciPy 1.11.0, this behavior will change: the default value of `keepdims` will become False, the `axis` over which the statistic is taken will be eliminated, and the value None will no longer be accepted. Set `keepdims` to True or False to avoid this warning.\n",
      "  mode, _ = stats.mode(_y[neigh_ind, k], axis=1)\n",
      "C:\\Users\\User\\anaconda3\\lib\\site-packages\\sklearn\\neighbors\\_classification.py:228: FutureWarning: Unlike other reduction functions (e.g. `skew`, `kurtosis`), the default behavior of `mode` typically preserves the axis it acts along. In SciPy 1.11.0, this behavior will change: the default value of `keepdims` will become False, the `axis` over which the statistic is taken will be eliminated, and the value None will no longer be accepted. Set `keepdims` to True or False to avoid this warning.\n",
      "  mode, _ = stats.mode(_y[neigh_ind, k], axis=1)\n",
      "C:\\Users\\User\\anaconda3\\lib\\site-packages\\sklearn\\neighbors\\_classification.py:228: FutureWarning: Unlike other reduction functions (e.g. `skew`, `kurtosis`), the default behavior of `mode` typically preserves the axis it acts along. In SciPy 1.11.0, this behavior will change: the default value of `keepdims` will become False, the `axis` over which the statistic is taken will be eliminated, and the value None will no longer be accepted. Set `keepdims` to True or False to avoid this warning.\n",
      "  mode, _ = stats.mode(_y[neigh_ind, k], axis=1)\n",
      "C:\\Users\\User\\anaconda3\\lib\\site-packages\\sklearn\\neighbors\\_classification.py:228: FutureWarning: Unlike other reduction functions (e.g. `skew`, `kurtosis`), the default behavior of `mode` typically preserves the axis it acts along. In SciPy 1.11.0, this behavior will change: the default value of `keepdims` will become False, the `axis` over which the statistic is taken will be eliminated, and the value None will no longer be accepted. Set `keepdims` to True or False to avoid this warning.\n",
      "  mode, _ = stats.mode(_y[neigh_ind, k], axis=1)\n",
      "C:\\Users\\User\\anaconda3\\lib\\site-packages\\sklearn\\neighbors\\_classification.py:228: FutureWarning: Unlike other reduction functions (e.g. `skew`, `kurtosis`), the default behavior of `mode` typically preserves the axis it acts along. In SciPy 1.11.0, this behavior will change: the default value of `keepdims` will become False, the `axis` over which the statistic is taken will be eliminated, and the value None will no longer be accepted. Set `keepdims` to True or False to avoid this warning.\n",
      "  mode, _ = stats.mode(_y[neigh_ind, k], axis=1)\n",
      "C:\\Users\\User\\anaconda3\\lib\\site-packages\\sklearn\\neighbors\\_classification.py:228: FutureWarning: Unlike other reduction functions (e.g. `skew`, `kurtosis`), the default behavior of `mode` typically preserves the axis it acts along. In SciPy 1.11.0, this behavior will change: the default value of `keepdims` will become False, the `axis` over which the statistic is taken will be eliminated, and the value None will no longer be accepted. Set `keepdims` to True or False to avoid this warning.\n",
      "  mode, _ = stats.mode(_y[neigh_ind, k], axis=1)\n",
      "C:\\Users\\User\\anaconda3\\lib\\site-packages\\sklearn\\neighbors\\_classification.py:228: FutureWarning: Unlike other reduction functions (e.g. `skew`, `kurtosis`), the default behavior of `mode` typically preserves the axis it acts along. In SciPy 1.11.0, this behavior will change: the default value of `keepdims` will become False, the `axis` over which the statistic is taken will be eliminated, and the value None will no longer be accepted. Set `keepdims` to True or False to avoid this warning.\n",
      "  mode, _ = stats.mode(_y[neigh_ind, k], axis=1)\n",
      "C:\\Users\\User\\anaconda3\\lib\\site-packages\\sklearn\\neighbors\\_classification.py:228: FutureWarning: Unlike other reduction functions (e.g. `skew`, `kurtosis`), the default behavior of `mode` typically preserves the axis it acts along. In SciPy 1.11.0, this behavior will change: the default value of `keepdims` will become False, the `axis` over which the statistic is taken will be eliminated, and the value None will no longer be accepted. Set `keepdims` to True or False to avoid this warning.\n",
      "  mode, _ = stats.mode(_y[neigh_ind, k], axis=1)\n",
      "C:\\Users\\User\\anaconda3\\lib\\site-packages\\sklearn\\neighbors\\_classification.py:228: FutureWarning: Unlike other reduction functions (e.g. `skew`, `kurtosis`), the default behavior of `mode` typically preserves the axis it acts along. In SciPy 1.11.0, this behavior will change: the default value of `keepdims` will become False, the `axis` over which the statistic is taken will be eliminated, and the value None will no longer be accepted. Set `keepdims` to True or False to avoid this warning.\n",
      "  mode, _ = stats.mode(_y[neigh_ind, k], axis=1)\n",
      "C:\\Users\\User\\anaconda3\\lib\\site-packages\\sklearn\\neighbors\\_classification.py:228: FutureWarning: Unlike other reduction functions (e.g. `skew`, `kurtosis`), the default behavior of `mode` typically preserves the axis it acts along. In SciPy 1.11.0, this behavior will change: the default value of `keepdims` will become False, the `axis` over which the statistic is taken will be eliminated, and the value None will no longer be accepted. Set `keepdims` to True or False to avoid this warning.\n",
      "  mode, _ = stats.mode(_y[neigh_ind, k], axis=1)\n",
      "C:\\Users\\User\\anaconda3\\lib\\site-packages\\sklearn\\neighbors\\_classification.py:228: FutureWarning: Unlike other reduction functions (e.g. `skew`, `kurtosis`), the default behavior of `mode` typically preserves the axis it acts along. In SciPy 1.11.0, this behavior will change: the default value of `keepdims` will become False, the `axis` over which the statistic is taken will be eliminated, and the value None will no longer be accepted. Set `keepdims` to True or False to avoid this warning.\n",
      "  mode, _ = stats.mode(_y[neigh_ind, k], axis=1)\n",
      "C:\\Users\\User\\anaconda3\\lib\\site-packages\\sklearn\\neighbors\\_classification.py:228: FutureWarning: Unlike other reduction functions (e.g. `skew`, `kurtosis`), the default behavior of `mode` typically preserves the axis it acts along. In SciPy 1.11.0, this behavior will change: the default value of `keepdims` will become False, the `axis` over which the statistic is taken will be eliminated, and the value None will no longer be accepted. Set `keepdims` to True or False to avoid this warning.\n",
      "  mode, _ = stats.mode(_y[neigh_ind, k], axis=1)\n",
      "C:\\Users\\User\\anaconda3\\lib\\site-packages\\sklearn\\neighbors\\_classification.py:228: FutureWarning: Unlike other reduction functions (e.g. `skew`, `kurtosis`), the default behavior of `mode` typically preserves the axis it acts along. In SciPy 1.11.0, this behavior will change: the default value of `keepdims` will become False, the `axis` over which the statistic is taken will be eliminated, and the value None will no longer be accepted. Set `keepdims` to True or False to avoid this warning.\n",
      "  mode, _ = stats.mode(_y[neigh_ind, k], axis=1)\n",
      "C:\\Users\\User\\anaconda3\\lib\\site-packages\\sklearn\\neighbors\\_classification.py:228: FutureWarning: Unlike other reduction functions (e.g. `skew`, `kurtosis`), the default behavior of `mode` typically preserves the axis it acts along. In SciPy 1.11.0, this behavior will change: the default value of `keepdims` will become False, the `axis` over which the statistic is taken will be eliminated, and the value None will no longer be accepted. Set `keepdims` to True or False to avoid this warning.\n",
      "  mode, _ = stats.mode(_y[neigh_ind, k], axis=1)\n",
      "C:\\Users\\User\\anaconda3\\lib\\site-packages\\sklearn\\neighbors\\_classification.py:228: FutureWarning: Unlike other reduction functions (e.g. `skew`, `kurtosis`), the default behavior of `mode` typically preserves the axis it acts along. In SciPy 1.11.0, this behavior will change: the default value of `keepdims` will become False, the `axis` over which the statistic is taken will be eliminated, and the value None will no longer be accepted. Set `keepdims` to True or False to avoid this warning.\n",
      "  mode, _ = stats.mode(_y[neigh_ind, k], axis=1)\n",
      "C:\\Users\\User\\anaconda3\\lib\\site-packages\\sklearn\\neighbors\\_classification.py:228: FutureWarning: Unlike other reduction functions (e.g. `skew`, `kurtosis`), the default behavior of `mode` typically preserves the axis it acts along. In SciPy 1.11.0, this behavior will change: the default value of `keepdims` will become False, the `axis` over which the statistic is taken will be eliminated, and the value None will no longer be accepted. Set `keepdims` to True or False to avoid this warning.\n",
      "  mode, _ = stats.mode(_y[neigh_ind, k], axis=1)\n",
      "C:\\Users\\User\\anaconda3\\lib\\site-packages\\sklearn\\neighbors\\_classification.py:228: FutureWarning: Unlike other reduction functions (e.g. `skew`, `kurtosis`), the default behavior of `mode` typically preserves the axis it acts along. In SciPy 1.11.0, this behavior will change: the default value of `keepdims` will become False, the `axis` over which the statistic is taken will be eliminated, and the value None will no longer be accepted. Set `keepdims` to True or False to avoid this warning.\n",
      "  mode, _ = stats.mode(_y[neigh_ind, k], axis=1)\n",
      "C:\\Users\\User\\anaconda3\\lib\\site-packages\\sklearn\\neighbors\\_classification.py:228: FutureWarning: Unlike other reduction functions (e.g. `skew`, `kurtosis`), the default behavior of `mode` typically preserves the axis it acts along. In SciPy 1.11.0, this behavior will change: the default value of `keepdims` will become False, the `axis` over which the statistic is taken will be eliminated, and the value None will no longer be accepted. Set `keepdims` to True or False to avoid this warning.\n",
      "  mode, _ = stats.mode(_y[neigh_ind, k], axis=1)\n",
      "C:\\Users\\User\\anaconda3\\lib\\site-packages\\sklearn\\neighbors\\_classification.py:228: FutureWarning: Unlike other reduction functions (e.g. `skew`, `kurtosis`), the default behavior of `mode` typically preserves the axis it acts along. In SciPy 1.11.0, this behavior will change: the default value of `keepdims` will become False, the `axis` over which the statistic is taken will be eliminated, and the value None will no longer be accepted. Set `keepdims` to True or False to avoid this warning.\n",
      "  mode, _ = stats.mode(_y[neigh_ind, k], axis=1)\n",
      "C:\\Users\\User\\anaconda3\\lib\\site-packages\\sklearn\\neighbors\\_classification.py:228: FutureWarning: Unlike other reduction functions (e.g. `skew`, `kurtosis`), the default behavior of `mode` typically preserves the axis it acts along. In SciPy 1.11.0, this behavior will change: the default value of `keepdims` will become False, the `axis` over which the statistic is taken will be eliminated, and the value None will no longer be accepted. Set `keepdims` to True or False to avoid this warning.\n",
      "  mode, _ = stats.mode(_y[neigh_ind, k], axis=1)\n"
     ]
    },
    {
     "name": "stderr",
     "output_type": "stream",
     "text": [
      "C:\\Users\\User\\anaconda3\\lib\\site-packages\\sklearn\\neighbors\\_classification.py:228: FutureWarning: Unlike other reduction functions (e.g. `skew`, `kurtosis`), the default behavior of `mode` typically preserves the axis it acts along. In SciPy 1.11.0, this behavior will change: the default value of `keepdims` will become False, the `axis` over which the statistic is taken will be eliminated, and the value None will no longer be accepted. Set `keepdims` to True or False to avoid this warning.\n",
      "  mode, _ = stats.mode(_y[neigh_ind, k], axis=1)\n",
      "C:\\Users\\User\\anaconda3\\lib\\site-packages\\sklearn\\neighbors\\_classification.py:228: FutureWarning: Unlike other reduction functions (e.g. `skew`, `kurtosis`), the default behavior of `mode` typically preserves the axis it acts along. In SciPy 1.11.0, this behavior will change: the default value of `keepdims` will become False, the `axis` over which the statistic is taken will be eliminated, and the value None will no longer be accepted. Set `keepdims` to True or False to avoid this warning.\n",
      "  mode, _ = stats.mode(_y[neigh_ind, k], axis=1)\n",
      "C:\\Users\\User\\anaconda3\\lib\\site-packages\\sklearn\\neighbors\\_classification.py:228: FutureWarning: Unlike other reduction functions (e.g. `skew`, `kurtosis`), the default behavior of `mode` typically preserves the axis it acts along. In SciPy 1.11.0, this behavior will change: the default value of `keepdims` will become False, the `axis` over which the statistic is taken will be eliminated, and the value None will no longer be accepted. Set `keepdims` to True or False to avoid this warning.\n",
      "  mode, _ = stats.mode(_y[neigh_ind, k], axis=1)\n",
      "C:\\Users\\User\\anaconda3\\lib\\site-packages\\sklearn\\neighbors\\_classification.py:228: FutureWarning: Unlike other reduction functions (e.g. `skew`, `kurtosis`), the default behavior of `mode` typically preserves the axis it acts along. In SciPy 1.11.0, this behavior will change: the default value of `keepdims` will become False, the `axis` over which the statistic is taken will be eliminated, and the value None will no longer be accepted. Set `keepdims` to True or False to avoid this warning.\n",
      "  mode, _ = stats.mode(_y[neigh_ind, k], axis=1)\n",
      "C:\\Users\\User\\anaconda3\\lib\\site-packages\\sklearn\\neighbors\\_classification.py:228: FutureWarning: Unlike other reduction functions (e.g. `skew`, `kurtosis`), the default behavior of `mode` typically preserves the axis it acts along. In SciPy 1.11.0, this behavior will change: the default value of `keepdims` will become False, the `axis` over which the statistic is taken will be eliminated, and the value None will no longer be accepted. Set `keepdims` to True or False to avoid this warning.\n",
      "  mode, _ = stats.mode(_y[neigh_ind, k], axis=1)\n",
      "C:\\Users\\User\\anaconda3\\lib\\site-packages\\sklearn\\neighbors\\_classification.py:228: FutureWarning: Unlike other reduction functions (e.g. `skew`, `kurtosis`), the default behavior of `mode` typically preserves the axis it acts along. In SciPy 1.11.0, this behavior will change: the default value of `keepdims` will become False, the `axis` over which the statistic is taken will be eliminated, and the value None will no longer be accepted. Set `keepdims` to True or False to avoid this warning.\n",
      "  mode, _ = stats.mode(_y[neigh_ind, k], axis=1)\n",
      "C:\\Users\\User\\anaconda3\\lib\\site-packages\\sklearn\\neighbors\\_classification.py:228: FutureWarning: Unlike other reduction functions (e.g. `skew`, `kurtosis`), the default behavior of `mode` typically preserves the axis it acts along. In SciPy 1.11.0, this behavior will change: the default value of `keepdims` will become False, the `axis` over which the statistic is taken will be eliminated, and the value None will no longer be accepted. Set `keepdims` to True or False to avoid this warning.\n",
      "  mode, _ = stats.mode(_y[neigh_ind, k], axis=1)\n",
      "C:\\Users\\User\\anaconda3\\lib\\site-packages\\sklearn\\neighbors\\_classification.py:228: FutureWarning: Unlike other reduction functions (e.g. `skew`, `kurtosis`), the default behavior of `mode` typically preserves the axis it acts along. In SciPy 1.11.0, this behavior will change: the default value of `keepdims` will become False, the `axis` over which the statistic is taken will be eliminated, and the value None will no longer be accepted. Set `keepdims` to True or False to avoid this warning.\n",
      "  mode, _ = stats.mode(_y[neigh_ind, k], axis=1)\n"
     ]
    }
   ],
   "source": [
    "from sklearn.neighbors import KNeighborsClassifier\n",
    "\n",
    "\n",
    "test_scores = []\n",
    "train_scores = []\n",
    "\n",
    "for i in range(1,15):\n",
    "\n",
    "    knn = KNeighborsClassifier(i)\n",
    "    knn.fit(X_train,y_train)\n",
    "    \n",
    "    train_scores.append(knn.score(X_train,y_train))\n",
    "    test_scores.append(knn.score(X_test,y_test))"
   ]
  },
  {
   "cell_type": "code",
   "execution_count": 60,
   "id": "b48e8041",
   "metadata": {},
   "outputs": [
    {
     "data": {
      "text/plain": [
       "1.0"
      ]
     },
     "execution_count": 60,
     "metadata": {},
     "output_type": "execute_result"
    }
   ],
   "source": [
    "max_train_score = max(train_scores)\n",
    "max_train_score"
   ]
  },
  {
   "cell_type": "code",
   "execution_count": 61,
   "id": "6179e394",
   "metadata": {},
   "outputs": [
    {
     "name": "stdout",
     "output_type": "stream",
     "text": [
      "Max test score 77.27272727272727 % and k = [12, 14]\n"
     ]
    }
   ],
   "source": [
    "max_test_score = max(test_scores)\n",
    "test_scores_ind = [i for i, v in enumerate(test_scores) if v == max_test_score]\n",
    "print('Max test score {} % and k = {}'.format(max_test_score*100,list(map(lambda x: x+1, test_scores_ind))))"
   ]
  },
  {
   "cell_type": "code",
   "execution_count": 62,
   "id": "f2db51de",
   "metadata": {},
   "outputs": [
    {
     "name": "stderr",
     "output_type": "stream",
     "text": [
      "C:\\Users\\User\\anaconda3\\lib\\site-packages\\sklearn\\neighbors\\_classification.py:228: FutureWarning: Unlike other reduction functions (e.g. `skew`, `kurtosis`), the default behavior of `mode` typically preserves the axis it acts along. In SciPy 1.11.0, this behavior will change: the default value of `keepdims` will become False, the `axis` over which the statistic is taken will be eliminated, and the value None will no longer be accepted. Set `keepdims` to True or False to avoid this warning.\n",
      "  mode, _ = stats.mode(_y[neigh_ind, k], axis=1)\n"
     ]
    },
    {
     "data": {
      "text/plain": [
       "0.7727272727272727"
      ]
     },
     "execution_count": 62,
     "metadata": {},
     "output_type": "execute_result"
    }
   ],
   "source": [
    "knn = KNeighborsClassifier(14)\n",
    "\n",
    "knn.fit(X_train,y_train)\n",
    "knn.score(X_test,y_test)"
   ]
  },
  {
   "cell_type": "code",
   "execution_count": 63,
   "id": "7b08d1b3",
   "metadata": {},
   "outputs": [],
   "source": [
    "import pickle"
   ]
  },
  {
   "cell_type": "code",
   "execution_count": 65,
   "id": "868eda3f",
   "metadata": {},
   "outputs": [],
   "source": [
    "filename = 'diabetes.pkl'\n",
    "pickle.dump(knn, open(filename, 'wb'))"
   ]
  },
  {
   "cell_type": "code",
   "execution_count": null,
   "id": "3956b471",
   "metadata": {},
   "outputs": [],
   "source": []
  }
 ],
 "metadata": {
  "kernelspec": {
   "display_name": "Python 3 (ipykernel)",
   "language": "python",
   "name": "python3"
  },
  "language_info": {
   "codemirror_mode": {
    "name": "ipython",
    "version": 3
   },
  